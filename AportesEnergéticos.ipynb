{
  "nbformat": 4,
  "nbformat_minor": 0,
  "metadata": {
    "colab": {
      "provenance": [],
      "authorship_tag": "ABX9TyMBsxiOt/tGuGHpHd9jUwlq",
      "include_colab_link": true
    },
    "kernelspec": {
      "name": "python3",
      "display_name": "Python 3"
    },
    "language_info": {
      "name": "python"
    }
  },
  "cells": [
    {
      "cell_type": "markdown",
      "metadata": {
        "id": "view-in-github",
        "colab_type": "text"
      },
      "source": [
        "<a href=\"https://colab.research.google.com/github/JoseFernandoGuarin/PrecisionLivestookFarming/blob/main/AportesEnerg%C3%A9ticos.ipynb\" target=\"_parent\"><img src=\"https://colab.research.google.com/assets/colab-badge.svg\" alt=\"Open In Colab\"/></a>"
      ]
    },
    {
      "cell_type": "code",
      "source": [
        "# Creamos un diccionario vacío para almacenar las cantidades de los ingredientes\n",
        "cantidades_ingredientes = {}\n",
        "\n",
        "# Pedimos al usuario que ingrese las cantidades para cada ingrediente\n",
        "cantidades_ingredientes[\"Pasto\"] = {\"Cantidad Kg (BF)\": input(\"Ingrese la cantidad de Pasto en Kg (BF): \"),\n",
        "                                   \"MS\": input(\"Ingrese la cantidad de  MS Pasto: \"),\n",
        "                                   \"ENl\": input(\"Ingrese la cantidad de Pasto en ENl: \")}\n",
        "cantidades_ingredientes[\"Pasto 2\"] = {\"Cantidad Kg (BF)\": input(\"Ingrese la cantidad de Pasto 2 en Kg (BF): \"),\n",
        "                                      \"MS\": input(\"Ingrese la cantidad de  MS Pasto 2 : \"),\n",
        "                                      \"ENl\": input(\"Ingrese la cantidad de Pasto 2 en ENl: \")}\n",
        "cantidades_ingredientes[\"Pasto 3\"] = {\"Cantidad Kg (BF)\": input(\"Ingrese la cantidad de Pasto 3 en Kg (BF): \"),\n",
        "                                      \"MS\": input(\"Ingrese la cantidad de MS del Pasto 3: \"),\n",
        "                                      \"ENl\": input(\"Ingrese la cantidad de Pasto 3 en ENl: \")}\n",
        "cantidades_ingredientes[\"Concentrado\"] = {\"Cantidad Kg (BF)\": input(\"Ingrese la cantidad de Concentrado en Kg (BF): \"),\n",
        "                                          \"MS\": input(\"Ingrese la cantidad de Concentrado en MS: \"),\n",
        "                                          \"ENl\": input(\"Ingrese la cantidad de Concentrado en ENl: \")}\n",
        "cantidades_ingredientes[\"Ensilaje\"] = {\"Cantidad Kg (BF)\": input(\"Ingrese la cantidad de Ensilaje en Kg (BF): \"),\n",
        "                                       \"MS\": input(\"Ingrese la cantidad de Ensilaje en MS: \"),\n",
        "                                       \"ENl\": input(\"Ingrese la cantidad de Ensilaje en ENl: \")}\n",
        "cantidades_ingredientes[\"Suplemento 1\"] = {\"Cantidad Kg (BF)\": input(\"Ingrese la cantidad de Suplemento 1 en Kg (BF): \"),\n",
        "                                           \"MS\": input(\"Ingrese la cantidad de Suplemento 1 en MS: \"),\n",
        "                                           \"ENl\": input(\"Ingrese la cantidad de Suplemento 1 en ENl: \")}\n",
        "cantidades_ingredientes[\"Suplemento 2\"] = {\"Cantidad Kg (BF)\": input(\"Ingrese la cantidad de Suplemento 2 en Kg (BF): \"),\n",
        "                                           \"MS\": input(\"Ingrese la cantidad de Suplemento 2 en MS: \"),\n",
        "                                           \"ENl\": input(\"Ingrese la cantidad de Suplemento 2 en ENl: \")}\n",
        "cantidades_ingredientes[\"Grasa\"] = {\"Cantidad Kg (BF)\": input(\"Ingrese la cantidad de Grasa en Kg (BF): \"),\n",
        "                                    \"MS\": input(\"Ingrese la cantidad de Grasa en MS: \"),\n",
        "                                    \"ENl\": input(\"Ingrese la cantidad de Grasa en ENl: \")}\n",
        "\n",
        "# Imprimimos el diccionario con las cantidades de los ingredientes\n",
        "print(cantidades_ingredientes)\n"
      ],
      "metadata": {
        "colab": {
          "base_uri": "https://localhost:8080/"
        },
        "id": "zI3uWyqq6klR",
        "outputId": "6e5bcfcd-6405-41ae-ece2-0cc42ccd4c59"
      },
      "execution_count": null,
      "outputs": [
        {
          "output_type": "stream",
          "name": "stdout",
          "text": [
            "Ingrese la cantidad de Pasto en Kg (BF): 80\n",
            "Ingrese la cantidad de Pasto en MS: 14\n",
            "Ingrese la cantidad de Pasto en ENl: 1.1\n",
            "Ingrese la cantidad de Pasto 2 en Kg (BF): 10\n",
            "Ingrese la cantidad de Pasto 2 en MS: 14\n",
            "Ingrese la cantidad de Pasto 2 en ENl: 1.4\n",
            "Ingrese la cantidad de Pasto 3 en Kg (BF): 0\n",
            "Ingrese la cantidad de Pasto 3 en MS: \n",
            "Ingrese la cantidad de Pasto 3 en ENl: \n",
            "Ingrese la cantidad de Concentrado en Kg (BF): 6\n",
            "Ingrese la cantidad de Concentrado en MS: 88\n",
            "Ingrese la cantidad de Concentrado en ENl: 1.8\n",
            "Ingrese la cantidad de Ensilaje en Kg (BF): 3\n",
            "Ingrese la cantidad de Ensilaje en MS: 35\n",
            "Ingrese la cantidad de Ensilaje en ENl: 1.3\n",
            "Ingrese la cantidad de Suplemento 1 en Kg (BF): \n",
            "Ingrese la cantidad de Suplemento 1 en MS: \n",
            "Ingrese la cantidad de Suplemento 1 en ENl: \n",
            "Ingrese la cantidad de Suplemento 2 en Kg (BF): \n",
            "Ingrese la cantidad de Suplemento 2 en MS: \n",
            "Ingrese la cantidad de Suplemento 2 en ENl: \n",
            "Ingrese la cantidad de Grasa en Kg (BF): .3\n",
            "Ingrese la cantidad de Grasa en MS: 90\n",
            "Ingrese la cantidad de Grasa en ENl: 5.2\n",
            "{'Pasto': {'Cantidad Kg (BF)': '80', 'MS': '14', 'ENl': '1.1'}, 'Pasto 2': {'Cantidad Kg (BF)': '10', 'MS': '14', 'ENl': '1.4'}, 'Pasto 3': {'Cantidad Kg (BF)': '0', 'MS': '', 'ENl': ''}, 'Concentrado': {'Cantidad Kg (BF)': '6', 'MS': '88', 'ENl': '1.8'}, 'Ensilaje': {'Cantidad Kg (BF)': '3', 'MS': '35', 'ENl': '1.3'}, 'Suplemento 1': {'Cantidad Kg (BF)': '', 'MS': '', 'ENl': ''}, 'Suplemento 2': {'Cantidad Kg (BF)': '', 'MS': '', 'ENl': ''}, 'Grasa': {'Cantidad Kg (BF)': '.3', 'MS': '90', 'ENl': '5.2'}}\n"
          ]
        }
      ]
    },
    {
      "cell_type": "code",
      "execution_count": null,
      "metadata": {
        "id": "gF05MGsP6iQ8"
      },
      "outputs": [],
      "source": [
        "ENl = (Cantidad Kg (BF) * ENl) / 100"
      ]
    }
  ]
}